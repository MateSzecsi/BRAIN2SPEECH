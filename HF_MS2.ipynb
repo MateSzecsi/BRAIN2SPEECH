{
 "cells": [
  {
   "cell_type": "markdown",
   "metadata": {},
   "source": [
    "# Home assignment Milestone 2 -- BRAIN2SPEECH"
   ]
  },
  {
   "cell_type": "markdown",
   "metadata": {},
   "source": [
    "During the project we would like to syntetise speech from brain signal.\n",
    "\n",
    "For this we use the Intractranial EEG datasets that can be found here: https://osf.io/nrgx6/\n",
    "\n",
    "The main tasks after the data preparation:\n",
    "- Create a CNN network for the task\n",
    "- Evaulate the results of the prediction using the MAE metrics\n",
    "\n",
    "We used the research of NeuralinterfacingLab as the starting point of our project, the research lab used LineaRegression for syntetise speech from the brain signal and we will use deep learning for the same exercise. During the projects we used some scripts created by NeuralinterfacingLab."
   ]
  },
  {
   "cell_type": "code",
   "execution_count": 1,
   "metadata": {
    "id": "UAvZxk4e9KOR"
   },
   "outputs": [],
   "source": [
    "# Import data_prepare modul that contains functions that we created.\n",
    "from data_prepare import train_test_split\n",
    "import numpy as np\n",
    "from tensorflow.keras.models import Sequential\n",
    "from tensorflow.keras.layers import Activation, Dense, Flatten, Conv1D, MaxPooling1D\n",
    "from tensorflow.keras.optimizers import SGD, Adam\n",
    "import matplotlib.pyplot as plt\n",
    "from sklearn.metrics import mean_absolute_error\n",
    "import os"
   ]
  },
  {
   "cell_type": "markdown",
   "metadata": {
    "id": "v0ZuYd79QvvG"
   },
   "source": [
    "# Prepare data for learning"
   ]
  },
  {
   "cell_type": "markdown",
   "metadata": {},
   "source": [
    "We prepare the data for learning neural networks. We use a function that execute the results of the last milestone get a train-ready dataset."
   ]
  },
  {
   "cell_type": "code",
   "execution_count": null,
   "metadata": {},
   "outputs": [],
   "source": [
    "def generate_datasets(pt, feat_path=r'./features'):\n",
    "    \n",
    "    r\"\"\"\n",
    "    Generate train, validation and test datasets from the one sample of the raw data.\n",
    "    This function also filter the datasets and remove silence from the dataset.\n",
    "    param pt: name of the sample\n",
    "    param feat_path: path of the raw data file\n",
    "  \"\"\"\n",
    "    \n",
    "    spectrogram = np.load(os.path.join(feat_path,f'{pt}_spec.npy'))\n",
    "    data = np.load(os.path.join(feat_path,f'{pt}_feat.npy'))\n",
    "    labels = np.load(os.path.join(feat_path,f'{pt}_procWords.npy'))\n",
    "    featName = np.load(os.path.join(feat_path,f'{pt}_feat_names.npy'))\n",
    "    \n",
    "    # Standardize data\n",
    "    mu = np.mean(data, axis=0)\n",
    "    std = np.std(data, axis=0)\n",
    "    data = (data-mu)/std\n",
    "    \n",
    "    # Reduce Dimensions\n",
    "    pca = PCA()\n",
    "    pca.fit(data)\n",
    "    data = np.dot(data, pca.components_[:50,:].T)\n",
    "\n",
    "    # Creating data for CNN: stacking window_size input data and connecting it to the output\n",
    "    # at the end of the window\n",
    "    window_size = 4\n",
    "    input = np.zeros((data.shape[0] - window_size, window_size, data.shape[1]))\n",
    "    output = np.zeros((spectrogram.shape[0] - window_size, spectrogram.shape[1]))\n",
    "    for i in range(data.shape[0] - window_size):\n",
    "      output[i, :] = spectrogram[i + window_size, :]\n",
    "      input[i, :, :] = data[i:i+window_size, :]\n",
    "\n",
    "    # Generate train, validation and test datasets\n",
    "    X_train, X_test, Y_train, Y_test = train_test_split(input, output, test_size=0.1)\n",
    "    \n",
    "    # Standardize input\n",
    "    mu_input = np.mean(X_train, axis=0)\n",
    "    std_input = np.std(X_train, axis=0)\n",
    "    X_train = (X_train-mu_input)/std_input\n",
    "    X_test = (X_test-mu_input)/std_input\n",
    "\n",
    "    # Standardize output\n",
    "    mu_output = np.mean(Y_train, axis=0)\n",
    "    std_output = np.std(Y_train, axis=0)\n",
    "    Y_train = (Y_train-mu_output)/std_output\n",
    "    Y_test = (Y_test-mu_output)/std_output\n",
    "\n",
    "    return (X_train, Y_train, X_test, Y_test, mu_input, std_input, mu_output, std_output)"
   ]
  },
  {
   "cell_type": "code",
   "execution_count": null,
   "metadata": {},
   "outputs": [],
   "source": [
    "def prepare_data():\n",
    "    # Get lists of samples\n",
    "    pts = ['sub-%02d'%i for i in range(1,11)]\n",
    "    # New list for the prepared datasets\n",
    "    norm_params = {}\n",
    "    X_train = []\n",
    "    Y_train = []\n",
    "    X_test = []\n",
    "    Y_test = []\n",
    "    \n",
    "    # Prepare data from all sample for deep learning\n",
    "    # In addition to the previous data preparation steps, we also filter out the silence\n",
    "    for i, pt in enumerate(pts):\n",
    "        #Prepare data for learning\n",
    "        (x_train, y_train, x_test, y_test, mu_input, std_input, mu_output, std_output) = generate_datasets(pt)\n",
    "        X_train.append(x_train)\n",
    "        Y_train.append(y_train)\n",
    "        X_test.append(x_test)\n",
    "        Y_test.append(y_test)\n",
    "        norm_params[str(i)]={'mu_input':mu_input, 'std_input':std_input, 'mu_output':mu_output, 'std_output':std_output}\n",
    "\n",
    "        \n",
    "    # data = {}\n",
    "    # for i, key in enumerate([\"Xtrain\", \"Ytrain\", \"Xtest\", \"Ytest\"]):\n",
    "    #     data[key] = np.array(prepared_data[0][i])\n",
    "    # for i in range(1, len(prepared_data), 1):\n",
    "    #     for j, key in enumerate(data.keys()):\n",
    "    #         data[key] = np.concatenate([data[key], prepared_data[i][j]], axis=0)\n",
    "    \n",
    "    return X_train, Y_train, X_test, Y_test, norm_params"
   ]
  },
  {
   "cell_type": "code",
   "execution_count": 2,
   "metadata": {},
   "outputs": [],
   "source": [
    "X_train, Y_train, X_test, Y_test, norm_params = prepare_data()"
   ]
  },
  {
   "cell_type": "markdown",
   "metadata": {},
   "source": [
    "# Create and fit a CNN neural network"
   ]
  },
  {
   "cell_type": "markdown",
   "metadata": {},
   "source": [
    "We create a 1D CNN architechture for learning with 2 convolution-filter."
   ]
  },
  {
   "cell_type": "code",
   "execution_count": 3,
   "metadata": {},
   "outputs": [],
   "source": [
    "# Creating one dimensional convolution net\n",
    "def make_1d_convnet(window_size, filter_length, nb_input_series=1, nb_outputs=1, nb_filter=[40, 40]):\n",
    "    #probably more filter layers should be added\n",
    "\n",
    "    model = Sequential()\n",
    "    model.add(Conv1D(filters=nb_filter[0], kernel_size=filter_length, activation='relu', input_shape=(window_size, nb_input_series)))\n",
    "    model.add(Conv1D(filters=nb_filter[1], kernel_size=filter_length, activation='relu'))\n",
    "    model.add(Flatten())\n",
    "    model.add(Dense(nb_outputs, activation='linear'))\n",
    "\n",
    "    optimizer=Adam(lr=0.001)\n",
    "    \n",
    "    model.compile(loss='mse', optimizer=optimizer, metrics=['mae'])\n",
    "    return model"
   ]
  },
  {
   "cell_type": "code",
   "execution_count": null,
   "metadata": {},
   "outputs": [
    {
     "name": "stdout",
     "output_type": "stream",
     "text": [
      "Epoch 1/100\n"
     ]
    },
    {
     "name": "stderr",
     "output_type": "stream",
     "text": [
      "C:\\Users\\Borkó Károly\\AppData\\Roaming\\Python\\Python310\\site-packages\\keras\\optimizers\\optimizer_v2\\adam.py:110: UserWarning: The `lr` argument is deprecated, use `learning_rate` instead.\n",
      "  super(Adam, self).__init__(name, **kwargs)\n"
     ]
    },
    {
     "name": "stdout",
     "output_type": "stream",
     "text": [
      "1632/1632 - 6s - loss: 5.0072 - mae: 1.5637 - val_loss: 3.9979 - val_mae: 1.4591 - 6s/epoch - 3ms/step\n",
      "Epoch 2/100\n",
      "1632/1632 - 5s - loss: 3.7904 - mae: 1.3837 - val_loss: 3.7533 - val_mae: 1.3546 - 5s/epoch - 3ms/step\n",
      "Epoch 3/100\n",
      "1632/1632 - 6s - loss: 3.6126 - mae: 1.3436 - val_loss: 3.6332 - val_mae: 1.3382 - 6s/epoch - 4ms/step\n",
      "Epoch 4/100\n",
      "1632/1632 - 5s - loss: 3.4738 - mae: 1.3120 - val_loss: 3.5255 - val_mae: 1.3258 - 5s/epoch - 3ms/step\n",
      "Epoch 5/100\n",
      "1632/1632 - 7s - loss: 3.3719 - mae: 1.2881 - val_loss: 3.4441 - val_mae: 1.3094 - 7s/epoch - 4ms/step\n",
      "Epoch 6/100\n",
      "1632/1632 - 6s - loss: 3.2937 - mae: 1.2706 - val_loss: 3.3686 - val_mae: 1.2770 - 6s/epoch - 4ms/step\n",
      "Epoch 7/100\n",
      "1632/1632 - 5s - loss: 3.2256 - mae: 1.2547 - val_loss: 3.3301 - val_mae: 1.2626 - 5s/epoch - 3ms/step\n",
      "Epoch 8/100\n",
      "1632/1632 - 5s - loss: 3.1791 - mae: 1.2433 - val_loss: 3.2931 - val_mae: 1.2568 - 5s/epoch - 3ms/step\n",
      "Epoch 9/100\n",
      "1632/1632 - 4s - loss: 3.1353 - mae: 1.2331 - val_loss: 3.2597 - val_mae: 1.2708 - 4s/epoch - 3ms/step\n",
      "Epoch 10/100\n",
      "1632/1632 - 6s - loss: 3.0914 - mae: 1.2226 - val_loss: 3.2710 - val_mae: 1.3201 - 6s/epoch - 4ms/step\n",
      "Epoch 11/100\n",
      "1632/1632 - 5s - loss: 3.0549 - mae: 1.2143 - val_loss: 3.2116 - val_mae: 1.2290 - 5s/epoch - 3ms/step\n",
      "Epoch 12/100\n",
      "1632/1632 - 5s - loss: 3.0227 - mae: 1.2058 - val_loss: 3.1940 - val_mae: 1.2412 - 5s/epoch - 3ms/step\n",
      "Epoch 13/100\n",
      "1632/1632 - 5s - loss: 2.9930 - mae: 1.1988 - val_loss: 3.1377 - val_mae: 1.2209 - 5s/epoch - 3ms/step\n",
      "Epoch 14/100\n",
      "1632/1632 - 7s - loss: 2.9618 - mae: 1.1920 - val_loss: 3.1534 - val_mae: 1.2339 - 7s/epoch - 4ms/step\n",
      "Epoch 15/100\n",
      "1632/1632 - 6s - loss: 2.9392 - mae: 1.1861 - val_loss: 3.1111 - val_mae: 1.2178 - 6s/epoch - 4ms/step\n",
      "Epoch 16/100\n",
      "1632/1632 - 5s - loss: 2.9134 - mae: 1.1801 - val_loss: 3.1045 - val_mae: 1.2138 - 5s/epoch - 3ms/step\n",
      "Epoch 17/100\n",
      "1632/1632 - 6s - loss: 2.8939 - mae: 1.1750 - val_loss: 3.1084 - val_mae: 1.2172 - 6s/epoch - 4ms/step\n",
      "Epoch 18/100\n",
      "1632/1632 - 5s - loss: 2.8781 - mae: 1.1713 - val_loss: 3.0739 - val_mae: 1.2120 - 5s/epoch - 3ms/step\n",
      "Epoch 19/100\n",
      "1632/1632 - 6s - loss: 2.8552 - mae: 1.1662 - val_loss: 3.0577 - val_mae: 1.2160 - 6s/epoch - 4ms/step\n",
      "Epoch 20/100\n",
      "1632/1632 - 6s - loss: 2.8409 - mae: 1.1625 - val_loss: 3.0790 - val_mae: 1.1930 - 6s/epoch - 4ms/step\n",
      "Epoch 21/100\n",
      "1632/1632 - 7s - loss: 2.8254 - mae: 1.1595 - val_loss: 3.0551 - val_mae: 1.2082 - 7s/epoch - 4ms/step\n",
      "Epoch 22/100\n",
      "1632/1632 - 7s - loss: 2.8127 - mae: 1.1553 - val_loss: 3.0345 - val_mae: 1.2263 - 7s/epoch - 4ms/step\n",
      "Epoch 23/100\n",
      "1632/1632 - 7s - loss: 2.7994 - mae: 1.1527 - val_loss: 3.0325 - val_mae: 1.1685 - 7s/epoch - 4ms/step\n",
      "Epoch 24/100\n",
      "1632/1632 - 6s - loss: 2.7836 - mae: 1.1489 - val_loss: 3.0237 - val_mae: 1.2175 - 6s/epoch - 4ms/step\n",
      "Epoch 25/100\n",
      "1632/1632 - 7s - loss: 2.7726 - mae: 1.1458 - val_loss: 2.9876 - val_mae: 1.1884 - 7s/epoch - 4ms/step\n",
      "Epoch 26/100\n",
      "1632/1632 - 6s - loss: 2.7632 - mae: 1.1437 - val_loss: 2.9898 - val_mae: 1.1887 - 6s/epoch - 4ms/step\n",
      "Epoch 27/100\n",
      "1632/1632 - 7s - loss: 2.7497 - mae: 1.1400 - val_loss: 2.9870 - val_mae: 1.1800 - 7s/epoch - 4ms/step\n",
      "Epoch 28/100\n",
      "1632/1632 - 7s - loss: 2.7379 - mae: 1.1380 - val_loss: 3.0047 - val_mae: 1.1657 - 7s/epoch - 4ms/step\n",
      "Epoch 29/100\n",
      "1632/1632 - 6s - loss: 2.7260 - mae: 1.1347 - val_loss: 2.9721 - val_mae: 1.2176 - 6s/epoch - 4ms/step\n",
      "Epoch 30/100\n",
      "1632/1632 - 6s - loss: 2.7151 - mae: 1.1321 - val_loss: 2.9583 - val_mae: 1.2061 - 6s/epoch - 3ms/step\n",
      "Epoch 31/100\n",
      "1632/1632 - 6s - loss: 2.7067 - mae: 1.1302 - val_loss: 2.9379 - val_mae: 1.1841 - 6s/epoch - 4ms/step\n",
      "Epoch 32/100\n",
      "1632/1632 - 7s - loss: 2.6961 - mae: 1.1280 - val_loss: 2.9410 - val_mae: 1.1919 - 7s/epoch - 4ms/step\n",
      "Epoch 33/100\n",
      "1632/1632 - 6s - loss: 2.6883 - mae: 1.1258 - val_loss: 2.9362 - val_mae: 1.1836 - 6s/epoch - 4ms/step\n",
      "Epoch 34/100\n",
      "1632/1632 - 7s - loss: 2.6767 - mae: 1.1232 - val_loss: 2.9311 - val_mae: 1.1664 - 7s/epoch - 4ms/step\n",
      "Epoch 35/100\n",
      "1632/1632 - 7s - loss: 2.6689 - mae: 1.1215 - val_loss: 2.9109 - val_mae: 1.1628 - 7s/epoch - 4ms/step\n",
      "Epoch 36/100\n",
      "1632/1632 - 6s - loss: 2.6596 - mae: 1.1185 - val_loss: 2.9310 - val_mae: 1.1386 - 6s/epoch - 4ms/step\n",
      "Epoch 37/100\n",
      "1632/1632 - 7s - loss: 2.6529 - mae: 1.1161 - val_loss: 2.8991 - val_mae: 1.1764 - 7s/epoch - 4ms/step\n",
      "Epoch 38/100\n",
      "1632/1632 - 7s - loss: 2.6447 - mae: 1.1157 - val_loss: 2.8905 - val_mae: 1.1547 - 7s/epoch - 4ms/step\n",
      "Epoch 39/100\n",
      "1632/1632 - 6s - loss: 2.6385 - mae: 1.1131 - val_loss: 2.8849 - val_mae: 1.1626 - 6s/epoch - 4ms/step\n",
      "Epoch 40/100\n",
      "1632/1632 - 6s - loss: 2.6290 - mae: 1.1108 - val_loss: 2.8822 - val_mae: 1.1704 - 6s/epoch - 3ms/step\n",
      "Epoch 41/100\n",
      "1632/1632 - 5s - loss: 2.6212 - mae: 1.1094 - val_loss: 2.8786 - val_mae: 1.1410 - 5s/epoch - 3ms/step\n",
      "Epoch 42/100\n",
      "1632/1632 - 7s - loss: 2.6124 - mae: 1.1072 - val_loss: 2.8873 - val_mae: 1.1821 - 7s/epoch - 4ms/step\n",
      "Epoch 43/100\n",
      "1632/1632 - 7s - loss: 2.6070 - mae: 1.1058 - val_loss: 2.8831 - val_mae: 1.1608 - 7s/epoch - 4ms/step\n",
      "Epoch 44/100\n",
      "1632/1632 - 7s - loss: 2.6027 - mae: 1.1048 - val_loss: 2.8802 - val_mae: 1.1360 - 7s/epoch - 4ms/step\n",
      "Epoch 45/100\n",
      "1632/1632 - 7s - loss: 2.5883 - mae: 1.1017 - val_loss: 2.8767 - val_mae: 1.1662 - 7s/epoch - 4ms/step\n",
      "Epoch 46/100\n",
      "1632/1632 - 5s - loss: 2.5855 - mae: 1.1010 - val_loss: 2.8467 - val_mae: 1.1684 - 5s/epoch - 3ms/step\n",
      "Epoch 47/100\n",
      "1632/1632 - 7s - loss: 2.5776 - mae: 1.0992 - val_loss: 2.8566 - val_mae: 1.1474 - 7s/epoch - 4ms/step\n",
      "Epoch 48/100\n",
      "1632/1632 - 5s - loss: 2.5775 - mae: 1.0986 - val_loss: 2.8408 - val_mae: 1.1408 - 5s/epoch - 3ms/step\n",
      "Epoch 49/100\n",
      "1632/1632 - 7s - loss: 2.5659 - mae: 1.0965 - val_loss: 2.8471 - val_mae: 1.1356 - 7s/epoch - 4ms/step\n",
      "Epoch 50/100\n",
      "1632/1632 - 7s - loss: 2.5608 - mae: 1.0947 - val_loss: 2.8743 - val_mae: 1.1732 - 7s/epoch - 4ms/step\n",
      "Epoch 51/100\n",
      "1632/1632 - 7s - loss: 2.5556 - mae: 1.0930 - val_loss: 2.8599 - val_mae: 1.1299 - 7s/epoch - 4ms/step\n",
      "Epoch 52/100\n",
      "1632/1632 - 7s - loss: 2.5486 - mae: 1.0919 - val_loss: 2.8751 - val_mae: 1.1771 - 7s/epoch - 4ms/step\n",
      "Epoch 53/100\n",
      "1632/1632 - 5s - loss: 2.5481 - mae: 1.0913 - val_loss: 2.8530 - val_mae: 1.1328 - 5s/epoch - 3ms/step\n",
      "Epoch 54/100\n",
      "1632/1632 - 7s - loss: 2.5409 - mae: 1.0896 - val_loss: 2.8477 - val_mae: 1.1470 - 7s/epoch - 4ms/step\n",
      "Epoch 55/100\n",
      "1632/1632 - 5s - loss: 2.5388 - mae: 1.0889 - val_loss: 2.8327 - val_mae: 1.1386 - 5s/epoch - 3ms/step\n",
      "Epoch 56/100\n",
      "1632/1632 - 6s - loss: 2.5282 - mae: 1.0869 - val_loss: 2.8303 - val_mae: 1.1326 - 6s/epoch - 3ms/step\n",
      "Epoch 57/100\n",
      "1632/1632 - 7s - loss: 2.5263 - mae: 1.0860 - val_loss: 2.8806 - val_mae: 1.2036 - 7s/epoch - 4ms/step\n",
      "Epoch 58/100\n",
      "1632/1632 - 4s - loss: 2.5218 - mae: 1.0847 - val_loss: 2.8529 - val_mae: 1.1613 - 4s/epoch - 3ms/step\n",
      "Epoch 59/100\n",
      "1632/1632 - 7s - loss: 2.5130 - mae: 1.0830 - val_loss: 2.8569 - val_mae: 1.1209 - 7s/epoch - 4ms/step\n",
      "Epoch 60/100\n",
      "1632/1632 - 6s - loss: 2.5078 - mae: 1.0818 - val_loss: 2.8190 - val_mae: 1.1325 - 6s/epoch - 4ms/step\n",
      "Epoch 61/100\n",
      "1632/1632 - 5s - loss: 2.5051 - mae: 1.0806 - val_loss: 2.8525 - val_mae: 1.1841 - 5s/epoch - 3ms/step\n",
      "Epoch 62/100\n",
      "1632/1632 - 6s - loss: 2.4996 - mae: 1.0796 - val_loss: 2.8181 - val_mae: 1.1301 - 6s/epoch - 4ms/step\n",
      "Epoch 63/100\n",
      "1632/1632 - 5s - loss: 2.4948 - mae: 1.0785 - val_loss: 2.8398 - val_mae: 1.1700 - 5s/epoch - 3ms/step\n",
      "Epoch 64/100\n",
      "1632/1632 - 7s - loss: 2.4893 - mae: 1.0771 - val_loss: 2.8071 - val_mae: 1.1358 - 7s/epoch - 4ms/step\n",
      "Epoch 65/100\n",
      "1632/1632 - 7s - loss: 2.4892 - mae: 1.0768 - val_loss: 2.8181 - val_mae: 1.1243 - 7s/epoch - 4ms/step\n",
      "Epoch 66/100\n",
      "1632/1632 - 6s - loss: 2.4867 - mae: 1.0763 - val_loss: 2.7933 - val_mae: 1.1297 - 6s/epoch - 4ms/step\n",
      "Epoch 67/100\n",
      "1632/1632 - 6s - loss: 2.4770 - mae: 1.0736 - val_loss: 2.7870 - val_mae: 1.1336 - 6s/epoch - 4ms/step\n",
      "Epoch 68/100\n",
      "1632/1632 - 6s - loss: 2.4754 - mae: 1.0731 - val_loss: 2.7781 - val_mae: 1.1509 - 6s/epoch - 4ms/step\n",
      "Epoch 69/100\n",
      "1632/1632 - 6s - loss: 2.4702 - mae: 1.0726 - val_loss: 2.7768 - val_mae: 1.1265 - 6s/epoch - 4ms/step\n",
      "Epoch 70/100\n",
      "1632/1632 - 7s - loss: 2.4645 - mae: 1.0712 - val_loss: 2.7889 - val_mae: 1.1266 - 7s/epoch - 4ms/step\n",
      "Epoch 71/100\n",
      "1632/1632 - 6s - loss: 2.4611 - mae: 1.0699 - val_loss: 2.7675 - val_mae: 1.1217 - 6s/epoch - 3ms/step\n"
     ]
    },
    {
     "name": "stdout",
     "output_type": "stream",
     "text": [
      "Epoch 72/100\n",
      "1632/1632 - 7s - loss: 2.4556 - mae: 1.0686 - val_loss: 2.7847 - val_mae: 1.1340 - 7s/epoch - 4ms/step\n",
      "Epoch 73/100\n",
      "1632/1632 - 7s - loss: 2.4537 - mae: 1.0682 - val_loss: 2.7907 - val_mae: 1.1239 - 7s/epoch - 4ms/step\n",
      "Epoch 74/100\n",
      "1632/1632 - 5s - loss: 2.4498 - mae: 1.0668 - val_loss: 2.7814 - val_mae: 1.1400 - 5s/epoch - 3ms/step\n",
      "Epoch 75/100\n",
      "1632/1632 - 6s - loss: 2.4458 - mae: 1.0662 - val_loss: 2.7592 - val_mae: 1.1241 - 6s/epoch - 4ms/step\n",
      "Epoch 76/100\n",
      "1632/1632 - 6s - loss: 2.4388 - mae: 1.0645 - val_loss: 2.7568 - val_mae: 1.1241 - 6s/epoch - 4ms/step\n",
      "Epoch 77/100\n",
      "1632/1632 - 7s - loss: 2.4356 - mae: 1.0635 - val_loss: 2.7701 - val_mae: 1.1401 - 7s/epoch - 4ms/step\n",
      "Epoch 78/100\n",
      "1632/1632 - 7s - loss: 2.4334 - mae: 1.0628 - val_loss: 2.8003 - val_mae: 1.1579 - 7s/epoch - 4ms/step\n",
      "Epoch 79/100\n",
      "1632/1632 - 6s - loss: 2.4260 - mae: 1.0615 - val_loss: 2.7635 - val_mae: 1.1508 - 6s/epoch - 4ms/step\n",
      "Epoch 80/100\n",
      "1632/1632 - 7s - loss: 2.4280 - mae: 1.0613 - val_loss: 2.7596 - val_mae: 1.1255 - 7s/epoch - 4ms/step\n",
      "Epoch 81/100\n",
      "1632/1632 - 7s - loss: 2.4215 - mae: 1.0596 - val_loss: 2.8076 - val_mae: 1.1642 - 7s/epoch - 4ms/step\n",
      "Epoch 82/100\n",
      "1632/1632 - 6s - loss: 2.4178 - mae: 1.0594 - val_loss: 2.7587 - val_mae: 1.1188 - 6s/epoch - 4ms/step\n",
      "Epoch 83/100\n",
      "1632/1632 - 6s - loss: 2.4167 - mae: 1.0586 - val_loss: 2.7502 - val_mae: 1.1169 - 6s/epoch - 4ms/step\n",
      "Epoch 84/100\n",
      "1632/1632 - 7s - loss: 2.4115 - mae: 1.0574 - val_loss: 2.7726 - val_mae: 1.1472 - 7s/epoch - 4ms/step\n",
      "Epoch 85/100\n",
      "1632/1632 - 6s - loss: 2.4074 - mae: 1.0563 - val_loss: 2.7479 - val_mae: 1.1333 - 6s/epoch - 3ms/step\n",
      "Epoch 86/100\n",
      "1632/1632 - 6s - loss: 2.4041 - mae: 1.0558 - val_loss: 2.7580 - val_mae: 1.1192 - 6s/epoch - 4ms/step\n",
      "Epoch 87/100\n",
      "1632/1632 - 7s - loss: 2.4009 - mae: 1.0545 - val_loss: 2.7421 - val_mae: 1.1154 - 7s/epoch - 4ms/step\n",
      "Epoch 88/100\n",
      "1632/1632 - 7s - loss: 2.3980 - mae: 1.0539 - val_loss: 2.7603 - val_mae: 1.1468 - 7s/epoch - 4ms/step\n",
      "Epoch 89/100\n",
      "1632/1632 - 6s - loss: 2.3936 - mae: 1.0530 - val_loss: 2.7263 - val_mae: 1.1162 - 6s/epoch - 4ms/step\n",
      "Epoch 90/100\n",
      "1632/1632 - 7s - loss: 2.3922 - mae: 1.0527 - val_loss: 2.7500 - val_mae: 1.1353 - 7s/epoch - 4ms/step\n",
      "Epoch 91/100\n",
      "1632/1632 - 7s - loss: 2.3895 - mae: 1.0515 - val_loss: 2.7203 - val_mae: 1.1279 - 7s/epoch - 4ms/step\n",
      "Epoch 92/100\n",
      "1632/1632 - 6s - loss: 2.3849 - mae: 1.0509 - val_loss: 2.7268 - val_mae: 1.1122 - 6s/epoch - 4ms/step\n",
      "Epoch 93/100\n",
      "1632/1632 - 6s - loss: 2.3838 - mae: 1.0506 - val_loss: 2.7161 - val_mae: 1.1300 - 6s/epoch - 4ms/step\n",
      "Epoch 94/100\n",
      "1632/1632 - 7s - loss: 2.3807 - mae: 1.0495 - val_loss: 2.7470 - val_mae: 1.0941 - 7s/epoch - 4ms/step\n",
      "Epoch 95/100\n",
      "1632/1632 - 7s - loss: 2.3771 - mae: 1.0493 - val_loss: 2.7351 - val_mae: 1.1105 - 7s/epoch - 4ms/step\n",
      "Epoch 96/100\n",
      "1632/1632 - 7s - loss: 2.3722 - mae: 1.0476 - val_loss: 2.7374 - val_mae: 1.1262 - 7s/epoch - 4ms/step\n",
      "Epoch 97/100\n",
      "1632/1632 - 7s - loss: 2.3722 - mae: 1.0476 - val_loss: 2.7201 - val_mae: 1.1004 - 7s/epoch - 4ms/step\n",
      "Epoch 98/100\n",
      "1632/1632 - 7s - loss: 2.3677 - mae: 1.0462 - val_loss: 2.7107 - val_mae: 1.1236 - 7s/epoch - 4ms/step\n",
      "Epoch 99/100\n",
      "1632/1632 - 7s - loss: 2.3660 - mae: 1.0459 - val_loss: 2.7086 - val_mae: 1.1203 - 7s/epoch - 4ms/step\n",
      "Epoch 100/100\n"
     ]
    }
   ],
   "source": [
    "#Parameters for the CNN network\n",
    "# one data point covers 2 * 200 ms of eeg signal\n",
    "filter_length = 2 #covers 4*8*400 sec of eeg\n",
    "window_size = 2 * 2 #we have two 1d max pool layers\n",
    "epochs = 100\n",
    "batch_size = 128\n",
    "\n",
    "# 50 scalar value is included in one timestep of input data, 23 freq component in one timestep of the output spectogram\n",
    "nb_filter = [40, 40] #probably should be between the nb_input and nb_output so that we don't lose data as a result of compression\n",
    "\n",
    "model = make_1d_convnet(window_size=window_size, filter_length=filter_length, nb_filter=nb_filter, nb_input_series=50, nb_outputs=23)\n",
    "model.fit(X_train, Y_train, epochs=epochs, batch_size=batch_size, validation_split=0.1, verbose=2)\n",
    "\n",
    "#summary\n",
    "model.summary()\n",
    "# saving the model\n",
    "if os.path.isfile('models/1d_cnn.h5') is False:\n",
    "    model.save('models/1d_cnn.h5')"
   ]
  },
  {
   "cell_type": "markdown",
   "metadata": {},
   "source": [
    "# Evaluate the preformance of the model"
   ]
  },
  {
   "cell_type": "markdown",
   "metadata": {},
   "source": [
    "We evaluate the performace of the neural network using the Mean Absolute error metrics. After that we visualized the results on a spectrogram."
   ]
  },
  {
   "cell_type": "code",
   "execution_count": null,
   "metadata": {},
   "outputs": [],
   "source": [
    "preds = model.predict(data['Xtest'])\n",
    "loss = mean_absolute_error(data['Ytest'], preds)\n",
    "print(f'Mean absolute error of test set:{loss}')"
   ]
  },
  {
   "cell_type": "code",
   "execution_count": null,
   "metadata": {},
   "outputs": [],
   "source": [
    "# Viz spectrograms\n",
    "rec_spec = preds\n",
    "spectrogram = data['Ytest']\n",
    "\n",
    "cm='viridis'\n",
    "fig, ax = plt.subplots(2, sharex=True)\n",
    "\n",
    "#Plot spectrograms\n",
    "ax[0].imshow(np.flipud(spectrogram.T), cmap=cm, interpolation=None,aspect='auto')\n",
    "ax[0].set_ylabel('Log Mel-Spec Bin')\n",
    "ax[1].imshow(np.flipud(rec_spec.T), cmap=cm, interpolation=None,aspect='auto')\n",
    "ax[1].set_ylabel('Log Mel-Spec Bin')"
   ]
  },
  {
   "cell_type": "code",
   "execution_count": null,
   "metadata": {},
   "outputs": [],
   "source": []
  }
 ],
 "metadata": {
  "colab": {
   "provenance": []
  },
  "kernelspec": {
   "display_name": "Python 3 (ipykernel)",
   "language": "python",
   "name": "python3"
  },
  "language_info": {
   "codemirror_mode": {
    "name": "ipython",
    "version": 3
   },
   "file_extension": ".py",
   "mimetype": "text/x-python",
   "name": "python",
   "nbconvert_exporter": "python",
   "pygments_lexer": "ipython3",
   "version": "3.9.10"
  },
  "vscode": {
   "interpreter": {
    "hash": "cc66402ee9dd0d45cb681ef7bf9287b06b34cc512cacd28107dca7ce0d1247ad"
   }
  }
 },
 "nbformat": 4,
 "nbformat_minor": 1
}
