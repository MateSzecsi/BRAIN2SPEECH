{
  "nbformat": 4,
  "nbformat_minor": 0,
  "metadata": {
    "colab": {
      "provenance": []
    },
    "kernelspec": {
      "name": "python3",
      "display_name": "Python 3"
    },
    "language_info": {
      "name": "python"
    }
  },
  "cells": [
    {
      "cell_type": "code",
      "execution_count": 1,
      "metadata": {
        "id": "UAvZxk4e9KOR"
      },
      "outputs": [],
      "source": [
        "# Import Utils modul that contains functions that we created.\n",
        "from utils import *"
      ]
    },
    {
      "cell_type": "markdown",
      "source": [
        "# Download data and scripts"
      ],
      "metadata": {
        "id": "S1VnKZ7hD-LD"
      }
    },
    {
      "cell_type": "code",
      "source": [
        "# Download the data and download the scripts from the github repo\n",
        "download_data()"
      ],
      "metadata": {
        "id": "crNoXo1B9p9_"
      },
      "execution_count": 2,
      "outputs": []
    },
    {
      "cell_type": "code",
      "source": [
        "# Run script for extract the downloaded data\n",
        "execfile(\"extract_features.py\")"
      ],
      "metadata": {
        "colab": {
          "base_uri": "https://localhost:8080/"
        },
        "id": "4HTJdAqMGfjH",
        "outputId": "4092efa4-1d91-4a45-9bf8-7df7c769f07b"
      },
      "execution_count": 3,
      "outputs": [
        {
          "output_type": "stream",
          "name": "stderr",
          "text": [
            "/usr/local/lib/python3.7/dist-packages/ipykernel_launcher.py:131: DeprecationWarning: scipy.hanning is deprecated and will be removed in SciPy 2.0.0, use numpy.hanning instead\n"
          ]
        }
      ]
    },
    {
      "cell_type": "markdown",
      "source": [
        "# Prepare data for learning"
      ],
      "metadata": {
        "id": "v0ZuYd79QvvG"
      }
    },
    {
      "cell_type": "code",
      "source": [
        "# Get lists of samples\n",
        "pts = ['sub-%02d'%i for i in range(1,11)]"
      ],
      "metadata": {
        "id": "FX-J_URiDokG"
      },
      "execution_count": 4,
      "outputs": []
    },
    {
      "cell_type": "code",
      "source": [
        "#Prepare data for learning\n",
        "# We should do it for the all samples.\n",
        "(X_train, Y_train, X_val, Y_val, X_test, Y_test) = generate_datasets(pts[0])"
      ],
      "metadata": {
        "id": "GM7X7z8CEQku"
      },
      "execution_count": 5,
      "outputs": []
    }
  ]
}